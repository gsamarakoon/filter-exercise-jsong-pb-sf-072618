{
 "cells": [
  {
   "cell_type": "markdown",
   "metadata": {},
   "source": [
    "# Loading a Bloom Filter"
   ]
  },
  {
   "cell_type": "markdown",
   "metadata": {},
   "source": [
    "## Do the following:\n",
    "\n",
    "* Connect to a testnet node\n",
    "* Load a filter for your testnet address\n",
    "* Send a request for transactions from the block which had your previous testnet transaction\n",
    "* Receive the merkleblock and tx messages."
   ]
  },
  {
   "cell_type": "code",
   "execution_count": null,
   "metadata": {},
   "outputs": [],
   "source": [
    "# Exercise 2.2\n",
    "\n",
    "from bloomfilter import BloomFilter, BIP37_CONSTANT\n",
    "from helper import (\n",
    "    bit_field_to_bytes,\n",
    "    decode_base58,\n",
    "    hash160,\n",
    "    hash256,\n",
    "    little_endian_to_int,\n",
    "    murmur3,\n",
    "    run,\n",
    "    SIGHASH_ALL,\n",
    ")\n",
    "from ecc import PrivateKey\n",
    "from network import (\n",
    "    GetDataMessage,\n",
    "    GetHeadersMessage,\n",
    "    HeadersMessage,\n",
    "    SimpleNode,\n",
    "    FILTERED_BLOCK_DATA_TYPE,\n",
    "    TX_DATA_TYPE,\n",
    ")\n",
    "\n",
    "block_hash = bytes.fromhex('<fill this in>')\n",
    "passphrase = b'<fill this in>'  # FILL THIS IN\n",
    "secret = little_endian_to_int(hash256(passphrase))\n",
    "private_key = PrivateKey(secret=secret)\n",
    "addr = private_key.point.address(testnet=True)\n",
    "print(addr)\n",
    "filter_size = 30\n",
    "filter_num_functions = 5\n",
    "filter_tweak = -1  # FILL THIS IN\n",
    "\n",
    "# get the hash160 of the address using decode_base58\n",
    "# create a bloom filter using the filter_size, filter_num_functions and filter_tweak above\n",
    "# add the h160 to the bloom filter\n",
    "\n",
    "# connect to tbtc.programmingblockchain.com in testnet mode, logging True\n",
    "# complete the handshake\n",
    "# send the filterload command with bf.filterload() as the payload\n",
    "# create a getdata message\n",
    "# add_data (FILTERED_BLOCK_DATA_TYPE, block_hash) to request the block\n",
    "# send the getdata message\n",
    "# wait for the merkleblock command\n",
    "# wait for the tx command\n",
    "# print the envelope payload in hex"
   ]
  }
 ],
 "metadata": {
  "kernelspec": {
   "display_name": "Python 3",
   "language": "python",
   "name": "python3"
  },
  "language_info": {
   "codemirror_mode": {
    "name": "ipython",
    "version": 3
   },
   "file_extension": ".py",
   "mimetype": "text/x-python",
   "name": "python",
   "nbconvert_exporter": "python",
   "pygments_lexer": "ipython3",
   "version": "3.6.6"
  }
 },
 "nbformat": 4,
 "nbformat_minor": 2
}
